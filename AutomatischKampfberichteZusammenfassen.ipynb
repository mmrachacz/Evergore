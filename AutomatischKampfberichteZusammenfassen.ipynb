{
 "cells": [
  {
   "cell_type": "code",
   "execution_count": 1,
   "id": "598b2119",
   "metadata": {},
   "outputs": [],
   "source": [
    "from selenium import webdriver\n",
    "from selenium.webdriver.common.by import By\n",
    "from selenium.webdriver.chrome.service import Service\n",
    "from selenium.webdriver.common.keys import Keys\n",
    "from selenium.webdriver.support.ui import WebDriverWait\n",
    "from selenium.webdriver.support import expected_conditions as EC\n",
    "from webdriver_manager.chrome import ChromeDriverManager\n",
    "from datetime import datetime\n",
    "import os\n",
    "import time"
   ]
  },
  {
   "cell_type": "markdown",
   "id": "de4a9b1c",
   "metadata": {},
   "source": [
    "### Links:"
   ]
  },
  {
   "cell_type": "code",
   "execution_count": null,
   "id": "fcd8058a",
   "metadata": {},
   "outputs": [],
   "source": [
    "# Evergore Log In Page\n",
    "evergore_log_in = 'https://www.evergore.de/login'\n",
    "\n",
    "# in DevTools, look for the value of the character-choice button\n",
    "character_choice = \"button[value='xxxxx']\" \n",
    "\n",
    "# Group-Report-Message with the Battle-Report Links\n",
    "gruppenbericht_message = \"URL-HERE\"\n",
    "\n",
    "# Username here\n",
    "username = 'xxxxx'"
   ]
  },
  {
   "cell_type": "markdown",
   "id": "84b9c61b",
   "metadata": {},
   "source": [
    "### Set Up driver and connect to Website:"
   ]
  },
  {
   "cell_type": "code",
   "execution_count": null,
   "id": "04a8759f",
   "metadata": {},
   "outputs": [],
   "source": [
    "# Set up the Chrome driver\n",
    "driver = webdriver.Chrome(service=Service(ChromeDriverManager().install()))\n",
    "\n",
    "# Step 1: Open the website\n",
    "driver.get(evergore_log_in)"
   ]
  },
  {
   "cell_type": "markdown",
   "id": "9f096395",
   "metadata": {},
   "source": [
    "### Create Secret.txt for password:"
   ]
  },
  {
   "cell_type": "code",
   "execution_count": 4,
   "id": "1f4d42eb",
   "metadata": {},
   "outputs": [],
   "source": [
    "# create secret file for password\n",
    "secrets_file = open(\"secrets.txt\",\"r\")\n",
    "string = secrets_file.read()"
   ]
  },
  {
   "cell_type": "markdown",
   "id": "e53ad82e",
   "metadata": {},
   "source": [
    "### Enter Log In Credentials:"
   ]
  },
  {
   "cell_type": "code",
   "execution_count": null,
   "id": "d5ed524e",
   "metadata": {},
   "outputs": [],
   "source": [
    "# Log in\n",
    "# Locate username and password fields and enter credentials\n",
    "username = driver.find_element(By.ID, \"nameInput\")  # Use the correct selector\n",
    "password = driver.find_element(By.ID, \"pwInput\")  # Use the correct selector\n",
    "\n",
    "username.send_keys(username)  # Replace with your username\n",
    "password.send_keys(string)  # Replace with your password\n",
    "\n",
    "# Submit the form (use appropriate selector, could be a button or form submission)\n",
    "password.send_keys(Keys.RETURN)"
   ]
  },
  {
   "cell_type": "markdown",
   "id": "bf83c960",
   "metadata": {},
   "source": [
    "### Hit Log in Button:"
   ]
  },
  {
   "cell_type": "code",
   "execution_count": 6,
   "id": "95602631",
   "metadata": {},
   "outputs": [],
   "source": [
    "# Log In\n",
    "login_button = driver.find_element(By.CSS_SELECTOR, character_choice)\n",
    "login_button.click()"
   ]
  },
  {
   "cell_type": "markdown",
   "id": "cc341658",
   "metadata": {},
   "source": [
    "### Navigate to GroupReport and scrape all Links:"
   ]
  },
  {
   "cell_type": "code",
   "execution_count": 7,
   "id": "3fd9c643",
   "metadata": {},
   "outputs": [],
   "source": [
    "# Navigate to the sub-page (if necessary)\n",
    "driver.get(gruppenbericht_message)\n",
    "\n",
    "# Scrape all links on the sub-page\n",
    "WebDriverWait(driver, 10).until(EC.presence_of_element_located((By.TAG_NAME, \"a\")))\n",
    "\n",
    "# Find all <a> elements and get their href attribute\n",
    "links = driver.find_elements(By.TAG_NAME, \"a\")\n",
    "urls = [link.get_attribute('href') for link in links if link.get_attribute('href') is not None]\n",
    "\n",
    "# Print the links (or save to file, etc.)\n",
    "# for url in urls:\n",
    "#     print(url)"
   ]
  },
  {
   "cell_type": "markdown",
   "id": "329908ee",
   "metadata": {},
   "source": [
    "### Extract BattleReport Links:"
   ]
  },
  {
   "cell_type": "code",
   "execution_count": 8,
   "id": "a9233585",
   "metadata": {},
   "outputs": [],
   "source": [
    "# extract \"Kampfberichte\"-Links\n",
    "kampfberichte = [url for url in urls if \"battle_report&battle_id\" in url]\n",
    "# kampfberichte"
   ]
  },
  {
   "cell_type": "markdown",
   "id": "2f4987b0",
   "metadata": {},
   "source": [
    "### Determine File Name (Unique IDs):"
   ]
  },
  {
   "cell_type": "code",
   "execution_count": 9,
   "id": "a9a6047c",
   "metadata": {},
   "outputs": [],
   "source": [
    "# create Directory for files, if not already existing\n",
    "output_directory = \"Kampfberichte\"\n",
    "os.makedirs(output_directory, exist_ok=True)\n",
    "\n",
    "# check files\n",
    "def get_last_file_number(directory, base_name, extension=\".html\"):\n",
    "    existing_files = os.listdir(directory)\n",
    "    last_number = 0\n",
    "    \n",
    "# find highest number\n",
    "    for filename in existing_files:\n",
    "        if filename.startswith(base_name) and filename.endswith(extension):\n",
    "\n",
    "            try:\n",
    "                number = int(filename[len(base_name):-len(extension)].strip(\"_\"))\n",
    "                if number > last_number:\n",
    "                    last_number = number\n",
    "            except ValueError:\n",
    "                continue\n",
    "\n",
    "    return last_number\n",
    "\n",
    "# give new file highest counter\n",
    "base_file_name = \"Kampfbericht\"\n",
    "last_number = get_last_file_number(output_directory, base_file_name)\n",
    "next_number = last_number + 1  # Fortlaufende Nummer\n",
    "file_name = f\"{base_file_name}_{next_number}.html\"\n",
    "file_path = os.path.join(output_directory, file_name)"
   ]
  },
  {
   "cell_type": "markdown",
   "id": "eb087be4",
   "metadata": {},
   "source": [
    "### Scrape BattleReports and Save into 1 File:"
   ]
  },
  {
   "cell_type": "code",
   "execution_count": 10,
   "id": "2c7eed81",
   "metadata": {
    "scrolled": true
   },
   "outputs": [
    {
     "name": "stdout",
     "output_type": "stream",
     "text": [
      "Alle Seiten wurden erfolgreich gespeichert!\n"
     ]
    }
   ],
   "source": [
    "# Create Document for BattleReports\n",
    "with open(file_path, 'w', encoding='utf-8') as file:\n",
    "\n",
    "\n",
    "    # iterate link-list\n",
    "    for url in kampfberichte:\n",
    "        \n",
    "        # open links\n",
    "        driver.get(url)\n",
    "\n",
    "        # wait 5 sec.\n",
    "        driver.implicitly_wait(5) \n",
    "\n",
    "        # Extract HTML- Code\n",
    "        page_content = driver.page_source\n",
    "\n",
    "        # write into File\n",
    "        file.write(page_content)\n",
    "        \n",
    "        # be nice, sleep for a sec\n",
    "        time.sleep(2)\n",
    "\n",
    "# close WebDriver\n",
    "driver.quit()\n",
    "\n",
    "print(\"Alle Seiten wurden erfolgreich gespeichert!\")"
   ]
  }
 ],
 "metadata": {
  "kernelspec": {
   "display_name": "Python 3",
   "language": "python",
   "name": "python3"
  },
  "language_info": {
   "codemirror_mode": {
    "name": "ipython",
    "version": 3
   },
   "file_extension": ".py",
   "mimetype": "text/x-python",
   "name": "python",
   "nbconvert_exporter": "python",
   "pygments_lexer": "ipython3",
   "version": "3.11.9"
  }
 },
 "nbformat": 4,
 "nbformat_minor": 5
}
